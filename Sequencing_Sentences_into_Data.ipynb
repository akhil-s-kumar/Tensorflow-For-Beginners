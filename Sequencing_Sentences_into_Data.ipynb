{
  "nbformat": 4,
  "nbformat_minor": 0,
  "metadata": {
    "colab": {
      "name": "Sequencing-Sentences into Data",
      "provenance": [],
      "collapsed_sections": [],
      "authorship_tag": "ABX9TyNWYAoitMShCEl/yN0qI3GK"
    },
    "kernelspec": {
      "name": "python3",
      "display_name": "Python 3"
    }
  },
  "cells": [
    {
      "cell_type": "code",
      "metadata": {
        "id": "iiyRFj_wPeEc",
        "colab_type": "code",
        "colab": {}
      },
      "source": [
        "import tensorflow as tf\n",
        "from tensorflow import keras\n",
        "from tensorflow.keras.preprocessing.text import Tokenizer\n",
        "from tensorflow.keras.preprocessing.sequence import pad_sequences"
      ],
      "execution_count": 16,
      "outputs": []
    },
    {
      "cell_type": "code",
      "metadata": {
        "id": "vHS23_ptP3_9",
        "colab_type": "code",
        "colab": {}
      },
      "source": [
        "sentences = ['My name is Akhil', \"I'am a programmer\", 'my place is in kerala']"
      ],
      "execution_count": 17,
      "outputs": []
    },
    {
      "cell_type": "code",
      "metadata": {
        "id": "Qq2fF80bP5gL",
        "colab_type": "code",
        "colab": {}
      },
      "source": [
        "tokenizer = Tokenizer(num_words=100, oov_token='<OOV>')# 00v is used to make the sequence same length if some words has no meaning.\n",
        "tokenizer.fit_on_texts(sentences)\n",
        "word_index = tokenizer.word_index"
      ],
      "execution_count": 18,
      "outputs": []
    },
    {
      "cell_type": "code",
      "metadata": {
        "id": "pg4jW_SeP_PP",
        "colab_type": "code",
        "colab": {}
      },
      "source": [
        "sequences = tokenizer.texts_to_sequences(sentences)"
      ],
      "execution_count": 19,
      "outputs": []
    },
    {
      "cell_type": "code",
      "metadata": {
        "id": "xZ6e6DQ8S4N6",
        "colab_type": "code",
        "colab": {}
      },
      "source": [
        "padded = pad_sequences(sequences)# To make it same length."
      ],
      "execution_count": 23,
      "outputs": []
    },
    {
      "cell_type": "code",
      "metadata": {
        "id": "5S5X-8MNQMy0",
        "colab_type": "code",
        "colab": {
          "base_uri": "https://localhost:8080/",
          "height": 101
        },
        "outputId": "2dc354c4-597c-4671-f4de-722b7d541a3f"
      },
      "source": [
        "print(word_index)\n",
        "print(sequences)\n",
        "print(padded)"
      ],
      "execution_count": 24,
      "outputs": [
        {
          "output_type": "stream",
          "text": [
            "{'<OOV>': 1, 'my': 2, 'is': 3, 'name': 4, 'akhil': 5, \"i'am\": 6, 'a': 7, 'programmer': 8, 'place': 9, 'in': 10, 'kerala': 11}\n",
            "[[2, 4, 3, 5], [6, 7, 8], [2, 9, 3, 10, 11]]\n",
            "[[ 0  2  4  3  5]\n",
            " [ 0  0  6  7  8]\n",
            " [ 2  9  3 10 11]]\n"
          ],
          "name": "stdout"
        }
      ]
    }
  ]
}