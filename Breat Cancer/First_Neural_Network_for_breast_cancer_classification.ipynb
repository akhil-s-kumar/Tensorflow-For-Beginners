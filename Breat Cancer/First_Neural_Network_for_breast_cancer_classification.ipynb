{
  "nbformat": 4,
  "nbformat_minor": 0,
  "metadata": {
    "colab": {
      "name": "First Neural Network for breast cancer classification",
      "provenance": [],
      "collapsed_sections": [],
      "authorship_tag": "ABX9TyNfERlATU3/KujkeHT4E17C"
    },
    "kernelspec": {
      "name": "python3",
      "display_name": "Python 3"
    }
  },
  "cells": [
    {
      "cell_type": "markdown",
      "metadata": {
        "id": "Jvp5f8Qx90bF",
        "colab_type": "text"
      },
      "source": [
        "For data manupulation and Analysis"
      ]
    },
    {
      "cell_type": "code",
      "metadata": {
        "id": "4g8byMgm8Ts4",
        "colab_type": "code",
        "colab": {}
      },
      "source": [
        "import pandas as pd"
      ],
      "execution_count": 3,
      "outputs": []
    },
    {
      "cell_type": "markdown",
      "metadata": {
        "id": "nIHWnyhV97qa",
        "colab_type": "text"
      },
      "source": [
        "Importing files from computer"
      ]
    },
    {
      "cell_type": "code",
      "metadata": {
        "id": "Qsnlg3pO-Li6",
        "colab_type": "code",
        "colab": {
          "resources": {
            "http://localhost:8080/nbextensions/google.colab/files.js": {
              "data": "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",
              "ok": true,
              "headers": [
                [
                  "content-type",
                  "application/javascript"
                ]
              ],
              "status": 200,
              "status_text": ""
            }
          },
          "base_uri": "https://localhost:8080/",
          "height": 174
        },
        "outputId": "b12c8bf5-23b2-46a6-ceee-be670674f772"
      },
      "source": [
        "from google.colab import files\n",
        "files = files.upload()"
      ],
      "execution_count": 4,
      "outputs": [
        {
          "output_type": "display_data",
          "data": {
            "text/html": [
              "\n",
              "     <input type=\"file\" id=\"files-f2091597-495b-4e87-aa2e-e2711f2d95b1\" name=\"files[]\" multiple disabled\n",
              "        style=\"border:none\" />\n",
              "     <output id=\"result-f2091597-495b-4e87-aa2e-e2711f2d95b1\">\n",
              "      Upload widget is only available when the cell has been executed in the\n",
              "      current browser session. Please rerun this cell to enable.\n",
              "      </output>\n",
              "      <script src=\"/nbextensions/google.colab/files.js\"></script> "
            ],
            "text/plain": [
              "<IPython.core.display.HTML object>"
            ]
          },
          "metadata": {
            "tags": []
          }
        },
        {
          "output_type": "stream",
          "text": [
            "Saving xtest.csv to xtest.csv\n",
            "Saving xtrain.csv to xtrain.csv\n",
            "Saving ytest.csv to ytest.csv\n",
            "Saving ytrain.csv to ytrain.csv\n"
          ],
          "name": "stdout"
        }
      ]
    },
    {
      "cell_type": "markdown",
      "metadata": {
        "id": "h18mVWgC-pA0",
        "colab_type": "text"
      },
      "source": [
        "Calling each uploaded files to the program"
      ]
    },
    {
      "cell_type": "code",
      "metadata": {
        "id": "C7EM855y-zFK",
        "colab_type": "code",
        "colab": {}
      },
      "source": [
        "x_train = pd.read_csv(\"xtrain.csv\", header=None)\n",
        "y_train = pd.read_csv(\"ytrain.csv\", header=None)\n",
        "x_test = pd.read_csv(\"xtest.csv\", header=None)\n",
        "y_test = pd.read_csv(\"ytest.csv\", header=None)"
      ],
      "execution_count": 5,
      "outputs": []
    },
    {
      "cell_type": "markdown",
      "metadata": {
        "id": "rHJy8gTjAT_b",
        "colab_type": "text"
      },
      "source": [
        "Use Keras to define a Neural Network that will be trained using this data. This Neural Network can be used in the future to prdict the presence of breast cancer."
      ]
    },
    {
      "cell_type": "code",
      "metadata": {
        "id": "qUmQoJLYAvdf",
        "colab_type": "code",
        "colab": {}
      },
      "source": [
        "from keras.models import Sequential #sequential allows you to create models layer-by-layer for most problems\n",
        "from keras.layers import Dense #Dense layer is the regular deeply connected neural network layer. It is most common and frequently used layer."
      ],
      "execution_count": 6,
      "outputs": []
    },
    {
      "cell_type": "markdown",
      "metadata": {
        "id": "Nn7Zx7x6Ckqi",
        "colab_type": "text"
      },
      "source": [
        "Creating classifier"
      ]
    },
    {
      "cell_type": "code",
      "metadata": {
        "id": "x-4GrwxMCqwl",
        "colab_type": "code",
        "colab": {}
      },
      "source": [
        "classifier = Sequential()\n",
        "\n",
        "classifier.add(Dense(units=16, activation='relu', input_dim = 30)) #input_dim = 30 because it has 30 features.\n",
        "classifier.add(Dense(units=8, activation='relu')) #The main advantage of using the ReLU function over other activation functions is that it does not activate all the neurons at the same time.\n",
        "classifier.add(Dense(units=6, activation='relu'))\n",
        "\n",
        "# All Considered as a single unit and gives value 0 or 1.\n",
        "classifier.add(Dense(units=1, activation='sigmoid'))"
      ],
      "execution_count": 7,
      "outputs": []
    },
    {
      "cell_type": "markdown",
      "metadata": {
        "id": "akH5jnvGGsTd",
        "colab_type": "text"
      },
      "source": [
        "Once the Neural network is defined, calculate optimizer and loss."
      ]
    },
    {
      "cell_type": "code",
      "metadata": {
        "id": "dWpDdZiKG9GE",
        "colab_type": "code",
        "colab": {}
      },
      "source": [
        "classifier.compile(optimizer='rmsprop', loss='binary_crossentropy')"
      ],
      "execution_count": 8,
      "outputs": []
    },
    {
      "cell_type": "markdown",
      "metadata": {
        "id": "FDCM9kVRHfx-",
        "colab_type": "text"
      },
      "source": [
        "Train the classifier with training data using classifier.fit method i.e for x how y should look like."
      ]
    },
    {
      "cell_type": "code",
      "metadata": {
        "id": "OeR7yHMnH6kl",
        "colab_type": "code",
        "colab": {
          "base_uri": "https://localhost:8080/",
          "height": 1000
        },
        "outputId": "080a9141-f4ba-47c8-ced4-81143c45fb5c"
      },
      "source": [
        "classifier.fit(x_train, y_train, batch_size=1, epochs=100) #Batch size is the number of training examples utilized in one iteration."
      ],
      "execution_count": 9,
      "outputs": [
        {
          "output_type": "stream",
          "text": [
            "Epoch 1/100\n",
            "455/455 [==============================] - 0s 878us/step - loss: 0.4066\n",
            "Epoch 2/100\n",
            "455/455 [==============================] - 0s 922us/step - loss: 0.1068\n",
            "Epoch 3/100\n",
            "455/455 [==============================] - 0s 877us/step - loss: 0.0909\n",
            "Epoch 4/100\n",
            "455/455 [==============================] - 0s 880us/step - loss: 0.0840\n",
            "Epoch 5/100\n",
            "455/455 [==============================] - 0s 887us/step - loss: 0.0859\n",
            "Epoch 6/100\n",
            "455/455 [==============================] - 0s 864us/step - loss: 0.0849\n",
            "Epoch 7/100\n",
            "455/455 [==============================] - 0s 928us/step - loss: 0.0868\n",
            "Epoch 8/100\n",
            "455/455 [==============================] - 0s 870us/step - loss: 0.0935\n",
            "Epoch 9/100\n",
            "455/455 [==============================] - 0s 883us/step - loss: 0.0896\n",
            "Epoch 10/100\n",
            "455/455 [==============================] - 0s 878us/step - loss: 0.0901\n",
            "Epoch 11/100\n",
            "455/455 [==============================] - 0s 852us/step - loss: 0.0883\n",
            "Epoch 12/100\n",
            "455/455 [==============================] - 0s 879us/step - loss: 0.0838\n",
            "Epoch 13/100\n",
            "455/455 [==============================] - 0s 869us/step - loss: 0.0875\n",
            "Epoch 14/100\n",
            "455/455 [==============================] - 0s 864us/step - loss: 0.0882\n",
            "Epoch 15/100\n",
            "455/455 [==============================] - 0s 858us/step - loss: 0.0945\n",
            "Epoch 16/100\n",
            "455/455 [==============================] - 0s 849us/step - loss: 0.0885\n",
            "Epoch 17/100\n",
            "455/455 [==============================] - 0s 886us/step - loss: 0.0939\n",
            "Epoch 18/100\n",
            "455/455 [==============================] - 0s 853us/step - loss: 0.0993\n",
            "Epoch 19/100\n",
            "455/455 [==============================] - 0s 904us/step - loss: 0.0920\n",
            "Epoch 20/100\n",
            "455/455 [==============================] - 0s 869us/step - loss: 0.0839\n",
            "Epoch 21/100\n",
            "455/455 [==============================] - 0s 854us/step - loss: 0.0915\n",
            "Epoch 22/100\n",
            "455/455 [==============================] - 0s 906us/step - loss: 0.0836\n",
            "Epoch 23/100\n",
            "455/455 [==============================] - 0s 870us/step - loss: 0.0827\n",
            "Epoch 24/100\n",
            "455/455 [==============================] - 0s 882us/step - loss: 0.0779\n",
            "Epoch 25/100\n",
            "455/455 [==============================] - 0s 916us/step - loss: 0.0771\n",
            "Epoch 26/100\n",
            "455/455 [==============================] - 0s 867us/step - loss: 0.0780\n",
            "Epoch 27/100\n",
            "455/455 [==============================] - 0s 887us/step - loss: 0.0721\n",
            "Epoch 28/100\n",
            "455/455 [==============================] - 0s 862us/step - loss: 0.0787\n",
            "Epoch 29/100\n",
            "455/455 [==============================] - 0s 845us/step - loss: 0.0727\n",
            "Epoch 30/100\n",
            "455/455 [==============================] - 0s 927us/step - loss: 0.0645\n",
            "Epoch 31/100\n",
            "455/455 [==============================] - 0s 851us/step - loss: 0.0698\n",
            "Epoch 32/100\n",
            "455/455 [==============================] - 0s 905us/step - loss: 0.0615\n",
            "Epoch 33/100\n",
            "455/455 [==============================] - 0s 940us/step - loss: 0.0633\n",
            "Epoch 34/100\n",
            "455/455 [==============================] - 0s 890us/step - loss: 0.0619\n",
            "Epoch 35/100\n",
            "455/455 [==============================] - 0s 873us/step - loss: 0.0621\n",
            "Epoch 36/100\n",
            "455/455 [==============================] - 0s 865us/step - loss: 0.0599\n",
            "Epoch 37/100\n",
            "455/455 [==============================] - 0s 977us/step - loss: 0.0621\n",
            "Epoch 38/100\n",
            "455/455 [==============================] - 0s 1ms/step - loss: 0.0609\n",
            "Epoch 39/100\n",
            "455/455 [==============================] - 0s 1ms/step - loss: 0.0556\n",
            "Epoch 40/100\n",
            "455/455 [==============================] - 0s 978us/step - loss: 0.0587\n",
            "Epoch 41/100\n",
            "455/455 [==============================] - 0s 997us/step - loss: 0.0627\n",
            "Epoch 42/100\n",
            "455/455 [==============================] - 0s 1ms/step - loss: 0.0511\n",
            "Epoch 43/100\n",
            "455/455 [==============================] - 0s 977us/step - loss: 0.0578\n",
            "Epoch 44/100\n",
            "455/455 [==============================] - 0s 968us/step - loss: 0.0573\n",
            "Epoch 45/100\n",
            "455/455 [==============================] - 0s 1ms/step - loss: 0.0616\n",
            "Epoch 46/100\n",
            "455/455 [==============================] - 0s 976us/step - loss: 0.0531\n",
            "Epoch 47/100\n",
            "455/455 [==============================] - 0s 977us/step - loss: 0.0630\n",
            "Epoch 48/100\n",
            "455/455 [==============================] - 0s 995us/step - loss: 0.0636\n",
            "Epoch 49/100\n",
            "455/455 [==============================] - 0s 969us/step - loss: 0.0555\n",
            "Epoch 50/100\n",
            "455/455 [==============================] - 0s 919us/step - loss: 0.0528\n",
            "Epoch 51/100\n",
            "455/455 [==============================] - 0s 857us/step - loss: 0.0565\n",
            "Epoch 52/100\n",
            "455/455 [==============================] - 0s 918us/step - loss: 0.0499\n",
            "Epoch 53/100\n",
            "455/455 [==============================] - 0s 894us/step - loss: 0.0557\n",
            "Epoch 54/100\n",
            "455/455 [==============================] - 0s 855us/step - loss: 0.0501\n",
            "Epoch 55/100\n",
            "455/455 [==============================] - 0s 876us/step - loss: 0.0537\n",
            "Epoch 56/100\n",
            "455/455 [==============================] - 0s 850us/step - loss: 0.0505\n",
            "Epoch 57/100\n",
            "455/455 [==============================] - 0s 875us/step - loss: 0.0590\n",
            "Epoch 58/100\n",
            "455/455 [==============================] - 0s 960us/step - loss: 0.0631\n",
            "Epoch 59/100\n",
            "455/455 [==============================] - 0s 865us/step - loss: 0.0820\n",
            "Epoch 60/100\n",
            "455/455 [==============================] - 0s 915us/step - loss: 0.0644\n",
            "Epoch 61/100\n",
            "455/455 [==============================] - 0s 881us/step - loss: 0.0584\n",
            "Epoch 62/100\n",
            "455/455 [==============================] - 0s 881us/step - loss: 0.0546\n",
            "Epoch 63/100\n",
            "455/455 [==============================] - 0s 866us/step - loss: 0.0694\n",
            "Epoch 64/100\n",
            "455/455 [==============================] - 0s 899us/step - loss: 0.0491\n",
            "Epoch 65/100\n",
            "455/455 [==============================] - 0s 870us/step - loss: 0.0688\n",
            "Epoch 66/100\n",
            "455/455 [==============================] - 0s 846us/step - loss: 0.0489\n",
            "Epoch 67/100\n",
            "455/455 [==============================] - 0s 870us/step - loss: 0.0604\n",
            "Epoch 68/100\n",
            "455/455 [==============================] - 0s 855us/step - loss: 0.0584\n",
            "Epoch 69/100\n",
            "455/455 [==============================] - 0s 879us/step - loss: 0.0764\n",
            "Epoch 70/100\n",
            "455/455 [==============================] - 0s 886us/step - loss: 0.0562\n",
            "Epoch 71/100\n",
            "455/455 [==============================] - 0s 876us/step - loss: 0.0561\n",
            "Epoch 72/100\n",
            "455/455 [==============================] - 0s 861us/step - loss: 0.0560\n",
            "Epoch 73/100\n",
            "455/455 [==============================] - 0s 885us/step - loss: 0.0536\n",
            "Epoch 74/100\n",
            "455/455 [==============================] - 0s 857us/step - loss: 0.0493\n",
            "Epoch 75/100\n",
            "455/455 [==============================] - 0s 889us/step - loss: 0.0497\n",
            "Epoch 76/100\n",
            "455/455 [==============================] - 0s 841us/step - loss: 0.0742\n",
            "Epoch 77/100\n",
            "455/455 [==============================] - 0s 875us/step - loss: 0.0502\n",
            "Epoch 78/100\n",
            "455/455 [==============================] - 0s 928us/step - loss: 0.0640\n",
            "Epoch 79/100\n",
            "455/455 [==============================] - 0s 869us/step - loss: 0.0608\n",
            "Epoch 80/100\n",
            "455/455 [==============================] - 0s 903us/step - loss: 0.0640\n",
            "Epoch 81/100\n",
            "455/455 [==============================] - 0s 876us/step - loss: 0.0544\n",
            "Epoch 82/100\n",
            "455/455 [==============================] - 0s 867us/step - loss: 0.0705\n",
            "Epoch 83/100\n",
            "455/455 [==============================] - 0s 877us/step - loss: 0.0620\n",
            "Epoch 84/100\n",
            "455/455 [==============================] - 0s 945us/step - loss: 0.0547\n",
            "Epoch 85/100\n",
            "455/455 [==============================] - 0s 907us/step - loss: 0.0562\n",
            "Epoch 86/100\n",
            "455/455 [==============================] - 0s 854us/step - loss: 0.0650\n",
            "Epoch 87/100\n",
            "455/455 [==============================] - 0s 875us/step - loss: 0.0591\n",
            "Epoch 88/100\n",
            "455/455 [==============================] - 0s 878us/step - loss: 0.0751\n",
            "Epoch 89/100\n",
            "455/455 [==============================] - 0s 876us/step - loss: 0.0573\n",
            "Epoch 90/100\n",
            "455/455 [==============================] - 0s 884us/step - loss: 0.0696\n",
            "Epoch 91/100\n",
            "455/455 [==============================] - 0s 869us/step - loss: 0.0656\n",
            "Epoch 92/100\n",
            "455/455 [==============================] - 0s 910us/step - loss: 0.0509\n",
            "Epoch 93/100\n",
            "455/455 [==============================] - 0s 881us/step - loss: 0.0484\n",
            "Epoch 94/100\n",
            "455/455 [==============================] - 0s 869us/step - loss: 0.0652\n",
            "Epoch 95/100\n",
            "455/455 [==============================] - 0s 863us/step - loss: 0.0638\n",
            "Epoch 96/100\n",
            "455/455 [==============================] - 0s 879us/step - loss: 0.0608\n",
            "Epoch 97/100\n",
            "455/455 [==============================] - 0s 855us/step - loss: 0.0514\n",
            "Epoch 98/100\n",
            "455/455 [==============================] - 0s 886us/step - loss: 0.0485\n",
            "Epoch 99/100\n",
            "455/455 [==============================] - 0s 856us/step - loss: 0.0596\n",
            "Epoch 100/100\n",
            "455/455 [==============================] - 0s 905us/step - loss: 0.0463\n"
          ],
          "name": "stdout"
        },
        {
          "output_type": "execute_result",
          "data": {
            "text/plain": [
              "<tensorflow.python.keras.callbacks.History at 0x7f1f1121e9b0>"
            ]
          },
          "metadata": {
            "tags": []
          },
          "execution_count": 9
        }
      ]
    },
    {
      "cell_type": "markdown",
      "metadata": {
        "id": "I3lfEMz2JWB3",
        "colab_type": "text"
      },
      "source": [
        "To predict new values use classifier.predict, pass test values that that the classifier has'nt seen before. It will give a set of prediction. These prediction will be a set of probabilities, so clean them to 1 if it is >=0.5 or else with 0."
      ]
    },
    {
      "cell_type": "code",
      "metadata": {
        "id": "upR1HZbqKpu-",
        "colab_type": "code",
        "colab": {
          "base_uri": "https://localhost:8080/",
          "height": 34
        },
        "outputId": "e46029d9-935e-4d4c-d2c4-994eae801f36"
      },
      "source": [
        "Y_pred = classifier.predict(x_test)\n",
        "list1 = []\n",
        "for y in Y_pred:\n",
        "\tif y>=0.5:\n",
        "\t\ty = 1\n",
        "\t\tlist1.append(y)\n",
        "\telse:\n",
        "\t\ty=0\n",
        "\t\tlist1.append(y)\n",
        "\t\n",
        "print(list1[9])"
      ],
      "execution_count": 10,
      "outputs": [
        {
          "output_type": "stream",
          "text": [
            "0\n"
          ],
          "name": "stdout"
        }
      ]
    }
  ]
}