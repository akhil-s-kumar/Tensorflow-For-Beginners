{
  "nbformat": 4,
  "nbformat_minor": 0,
  "metadata": {
    "colab": {
      "name": "Getting started with TensorFlow",
      "provenance": [],
      "collapsed_sections": [],
      "authorship_tag": "ABX9TyPaR6B/zhLpvsvqiZytaVAI"
    },
    "kernelspec": {
      "name": "python3",
      "display_name": "Python 3"
    }
  },
  "cells": [
    {
      "cell_type": "markdown",
      "metadata": {
        "id": "yfkEqgTJ67Dj",
        "colab_type": "text"
      },
      "source": [
        "**Installing TensorFlow using code line (use !)**"
      ]
    },
    {
      "cell_type": "code",
      "metadata": {
        "id": "KdRzRdsS5X02",
        "colab_type": "code",
        "colab": {}
      },
      "source": [
        "!pip install tensorflow\n",
        "# !pip install tensorflow-gpu (To install gpu version)"
      ],
      "execution_count": null,
      "outputs": []
    },
    {
      "cell_type": "markdown",
      "metadata": {
        "id": "di1n8HKq7Tx4",
        "colab_type": "text"
      },
      "source": [
        "Importing TensorFlow Module"
      ]
    },
    {
      "cell_type": "code",
      "metadata": {
        "id": "Uwof1M486sJq",
        "colab_type": "code",
        "colab": {}
      },
      "source": [
        "import tensorflow as tf"
      ],
      "execution_count": null,
      "outputs": []
    },
    {
      "cell_type": "markdown",
      "metadata": {
        "id": "aG6bllFV7hnS",
        "colab_type": "text"
      },
      "source": [
        "To find version"
      ]
    },
    {
      "cell_type": "code",
      "metadata": {
        "id": "JaLYqvib7l55",
        "colab_type": "code",
        "colab": {
          "base_uri": "https://localhost:8080/",
          "height": 34
        },
        "outputId": "fef096bc-5ce6-4dba-ff5e-364c1f83c5e7"
      },
      "source": [
        "print(tf.__version__)"
      ],
      "execution_count": null,
      "outputs": [
        {
          "output_type": "stream",
          "text": [
            "2.3.0\n"
          ],
          "name": "stdout"
        }
      ]
    }
  ]
}