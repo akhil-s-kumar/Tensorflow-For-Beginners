{
  "nbformat": 4,
  "nbformat_minor": 0,
  "metadata": {
    "colab": {
      "name": "Tokenization",
      "provenance": [],
      "collapsed_sections": [],
      "authorship_tag": "ABX9TyOs2kH79Jea/ypXDoFt/C5f"
    },
    "kernelspec": {
      "name": "python3",
      "display_name": "Python 3"
    }
  },
  "cells": [
    {
      "cell_type": "code",
      "metadata": {
        "id": "ya6rlOiEMgrh",
        "colab_type": "code",
        "colab": {}
      },
      "source": [
        "import tensorflow as tf\n",
        "from tensorflow import keras\n",
        "from tensorflow.keras.preprocessing.text import Tokenizer"
      ],
      "execution_count": 6,
      "outputs": []
    },
    {
      "cell_type": "code",
      "metadata": {
        "id": "0toVIM5VNA0L",
        "colab_type": "code",
        "colab": {}
      },
      "source": [
        "sentences = ['My name is Akhil', \"I'am a programmer\", 'my place is in kerala']"
      ],
      "execution_count": 14,
      "outputs": []
    },
    {
      "cell_type": "code",
      "metadata": {
        "id": "HCVJMmuUNTLB",
        "colab_type": "code",
        "colab": {
          "base_uri": "https://localhost:8080/",
          "height": 34
        },
        "outputId": "f61f5df0-f3b6-4853-9ce6-db33418757a8"
      },
      "source": [
        "tokenizer = Tokenizer(num_words=100)\n",
        "tokenizer.fit_on_texts(sentences)\n",
        "word_index = tokenizer.word_index\n",
        "print(word_index)"
      ],
      "execution_count": 15,
      "outputs": [
        {
          "output_type": "stream",
          "text": [
            "{'my': 1, 'is': 2, 'name': 3, 'akhil': 4, \"i'am\": 5, 'a': 6, 'programmer': 7, 'place': 8, 'in': 9, 'kerala': 10}\n"
          ],
          "name": "stdout"
        }
      ]
    }
  ]
}